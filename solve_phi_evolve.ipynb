{
 "cells": [
  {
   "cell_type": "markdown",
   "id": "9c8bc911-0818-480d-ab72-337766930fe8",
   "metadata": {},
   "source": [
    "#### Solve evolution equation of phi and background evolution simultaneously"
   ]
  },
  {
   "cell_type": "code",
   "execution_count": 1,
   "id": "05d56f4f-033b-41a3-a1aa-b19721b19a95",
   "metadata": {},
   "outputs": [],
   "source": [
    "import numpy as np, constant as C\n",
    "from scipy.integrate import solve_ivp\n",
    "from scipy.optimize import root\n",
    "from matplotlib.pyplot import *"
   ]
  },
  {
   "cell_type": "code",
   "execution_count": 2,
   "id": "49cf95c6-c95e-4285-87c0-ac20c9b2e959",
   "metadata": {},
   "outputs": [],
   "source": [
    "# Define constants (use Mpc unit)\n",
    "H0    = 67.36\n",
    "Om    = 0.3153\n",
    "zeq   = 3402\n",
    "# derived cosmological parameters\n",
    "aeq   = 1./(1.+zeq)\n",
    "h0    = H0/100.\n",
    "H0Mpc = H0/C.C\n",
    "Or    = Om*aeq\n",
    "Ov    = 1-Om # flat universe\n",
    "rhoc  = C.rho_c_Mpc4*(h0**2)"
   ]
  },
  {
   "cell_type": "code",
   "execution_count": 3,
   "id": "c628d966-b7c8-4f45-bf2b-1b21482ddc68",
   "metadata": {},
   "outputs": [],
   "source": [
    "# Initial conditions\n",
    "dphi0 = 0.0\n",
    "a0 = 1e-7\n",
    "t_steps = 1000"
   ]
  },
  {
   "cell_type": "code",
   "execution_count": 4,
   "id": "1d141502-30bb-400a-8fcd-2a75277b5e03",
   "metadata": {},
   "outputs": [],
   "source": [
    "# Define the potential and its derivative\n",
    "def V(m,phi):\n",
    "    return m**2 * phi**2 / 2\n",
    "def dV_dphi(m,phi):\n",
    "    return m**2 * phi"
   ]
  },
  {
   "cell_type": "code",
   "execution_count": 29,
   "id": "93799505-fccf-473c-8b3d-f171bc70afd5",
   "metadata": {},
   "outputs": [],
   "source": [
    "def equations_nb(t, y, m):\n",
    "    phi, dphi, a = y\n",
    "    rho_phi = dphi**2/2. + V(m,phi)\n",
    "    H = H0Mpc * np.sqrt( Om/a**3 + Or/a**4 + 1-Om) \n",
    "    ddphi = -3 * H * dphi - dV_dphi(m,phi)\n",
    "    da = H * a\n",
    "    return [dphi, ddphi, da]"
   ]
  },
  {
   "cell_type": "code",
   "execution_count": 6,
   "id": "0efc0ec5-efa2-4f07-bbf5-42b26677b1d4",
   "metadata": {},
   "outputs": [],
   "source": [
    "# System of ODEs\n",
    "def equations(t, y, m):\n",
    "    phi, dphi, a = y\n",
    "    rho_phi = dphi**2/2. + V(m,phi)\n",
    "    H = H0Mpc * np.sqrt( rho_phi/rhoc + Om/a**3 + Or/a**4 ) \n",
    "    ddphi = -3 * H * dphi - dV_dphi(m,phi)\n",
    "    da = H * a\n",
    "    return [dphi, ddphi, da]"
   ]
  },
  {
   "cell_type": "code",
   "execution_count": 7,
   "id": "303ade17-8a4e-46cf-9965-1fb188a95d3c",
   "metadata": {},
   "outputs": [],
   "source": [
    "# Iteratively adjust phi to satisfy rho_phi = Omega_Lambda x rho_c and a = 1\n",
    "def residual(guess):\n",
    "    # Initial conditions\n",
    "    t_span = (0, guess[1])\n",
    "    t_eval = np.linspace(t_span[0], t_span[1], t_steps)\n",
    "        \n",
    "    # Solve the system over some time range\n",
    "    sol = solve_ivp(equations, t_span, [guess[0], dphi0, a0], args=(m,), dense_output=True)\n",
    "        \n",
    "    # Get the solution at t=t_end\n",
    "    phi_end  = sol.sol(t_span[1])[0]\n",
    "    dphi_end = sol.sol(t_span[1])[1]\n",
    "    a_end    = sol.sol(t_span[1])[2]\n",
    "    rho_end  = dphi_end**2/2. + V(phi_end,m)\n",
    "    \n",
    "    print(phi_end,a_end)\n",
    "    \n",
    "    return [rho_end/rhoc-(1-Om),a_end-1]"
   ]
  },
  {
   "cell_type": "code",
   "execution_count": 8,
   "id": "eb34ec93-ddc6-421d-b2b1-99fd1e4e1ad2",
   "metadata": {},
   "outputs": [
    {
     "name": "stdout",
     "output_type": "stream",
     "text": [
      "1.1092101853139238e+59 0.9711143301371387\n",
      "1.1092101853139238e+59 0.9711143301371387\n",
      "1.1092101853139238e+59 0.9711143301371387\n",
      "1.109210201842459e+59 0.9711143340171388\n",
      "1.1092101853137302e+59 0.9711143436604189\n",
      "1.1092152658946336e+59 1.000218296740591\n",
      "1.109215270758662e+59 0.9999983444634396\n",
      "1.1092152707162891e+59 0.9999999999046515\n",
      "1.1092152707162865e+59 1.0\n"
     ]
    }
   ],
   "source": [
    "m = 1e-35*C.eV2Mpc\n",
    "phi_ini_guess = np.sqrt(2.*rhoc*(1.-Om))/m # initial guess, assuming slow roll\n",
    "result = root(residual, [phi_ini_guess,4100])"
   ]
  },
  {
   "cell_type": "code",
   "execution_count": 9,
   "id": "06e889ac-7f9a-42fe-8b17-08b9525c9125",
   "metadata": {},
   "outputs": [
    {
     "name": "stdout",
     "output_type": "stream",
     "text": [
      "1.1092226982318044e+59 1.1092171981651145e+59\n"
     ]
    }
   ],
   "source": [
    "print(result.x[0],phi_ini_guess)"
   ]
  },
  {
   "cell_type": "code",
   "execution_count": 51,
   "id": "b59ba477-7a4f-4895-92f8-b6a970e7ae44",
   "metadata": {},
   "outputs": [],
   "source": [
    "# No back reaction to H\n",
    "t_eval_nb = np.linspace(0, 4230, t_steps)\n",
    "sol = solve_ivp(equations_nb, [0,4230], [result.x[0], dphi0, a0], args=(m,), t_eval=t_eval_nb)\n",
    "# Extract results\n",
    "phi_nb, a_nb = sol.y[0], sol.y[2]"
   ]
  },
  {
   "cell_type": "code",
   "execution_count": 52,
   "id": "e8c14987-81bd-497e-b822-068ef1a9156a",
   "metadata": {},
   "outputs": [],
   "source": [
    "# Solve the full system with the corrected initial condition\n",
    "t_eval = np.linspace(0, result.x[1], t_steps)\n",
    "sol = solve_ivp(equations, [0,result.x[1]], [result.x[0], dphi0, a0], args=(m,), t_eval=t_eval)\n",
    "# Extract results\n",
    "phi, a = sol.y[0], sol.y[2]"
   ]
  },
  {
   "cell_type": "code",
   "execution_count": 53,
   "id": "dbdd1e9e-4718-4004-ba16-7094d5d597ef",
   "metadata": {},
   "outputs": [
    {
     "data": {
      "text/plain": [
       "<matplotlib.legend.Legend at 0x1468aca6bb90>"
      ]
     },
     "execution_count": 53,
     "metadata": {},
     "output_type": "execute_result"
    },
    {
     "data": {
      "image/png": "[encoded data removed]",
      "text/plain": [
       "<Figure size 640x480 with 1 Axes>"
      ]
     },
     "metadata": {},
     "output_type": "display_data"
    }
   ],
   "source": [
    "xscale('log')\n",
    "plot(1./a-1, (phi-phi[-1])/(phi[0]-phi[-1]),label='full')\n",
    "plot(1./a_nb-1, (phi_nb-phi_nb[-1])/(phi_nb[0]-phi_nb[-1]),label=r'no $\\rho_\\phi$ in $H$')\n",
    "xlabel(r'$z$')\n",
    "ylabel(r'$\\Delta\\phi/\\Delta\\phi_0$')\n",
    "legend()"
   ]
  },
  {
   "cell_type": "code",
   "execution_count": 54,
   "id": "2192768f-2a22-45f0-8dd8-edc7b1899fe1",
   "metadata": {},
   "outputs": [
    {
     "data": {
      "text/plain": [
       "Text(0, 0.5, '$a$')"
      ]
     },
     "execution_count": 54,
     "metadata": {},
     "output_type": "execute_result"
    },
    {
     "data": {
      "image/png": "[encoded data removed]",
      "text/plain": [
       "<Figure size 640x480 with 1 Axes>"
      ]
     },
     "metadata": {},
     "output_type": "display_data"
    }
   ],
   "source": [
    "plot(t_eval, a)\n",
    "plot(t_eval_nb, a_nb)\n",
    "xlabel('Time [Mpc]')\n",
    "ylabel(r'$a$')"
   ]
  },
  {
   "cell_type": "code",
   "execution_count": 13,
   "id": "89216e72-de1c-4639-b8c6-1bf853d1830a",
   "metadata": {},
   "outputs": [
    {
     "name": "stdout",
     "output_type": "stream",
     "text": [
      "0.4082189462490118 deg\n"
     ]
    }
   ],
   "source": [
    "# rotation angle\n",
    "g = 3e-18 / (1e9*C.eV2Mpc) # g: /GeV^-1 is a rough value taken from the maximum value in arXiv:2008.02473\n",
    "print(g*(phi[0]-phi[-1])/2 * 180./np.pi, 'deg')"
   ]
  },
  {
   "cell_type": "code",
   "execution_count": null,
   "id": "f2a55aba-3a76-49bb-a63b-efcddc08eedc",
   "metadata": {},
   "outputs": [],
   "source": []
  }
 ],
 "metadata": {
  "kernelspec": {
   "display_name": "py_v3_11",
   "language": "python",
   "name": "py_v3_11"
  },
  "language_info": {
   "codemirror_mode": {
    "name": "ipython",
    "version": 3
   },
   "file_extension": ".py",
   "mimetype": "text/x-python",
   "name": "python",
   "nbconvert_exporter": "python",
   "pygments_lexer": "ipython3",
   "version": "3.11.8"
  }
 },
 "nbformat": 4,
 "nbformat_minor": 5
}
